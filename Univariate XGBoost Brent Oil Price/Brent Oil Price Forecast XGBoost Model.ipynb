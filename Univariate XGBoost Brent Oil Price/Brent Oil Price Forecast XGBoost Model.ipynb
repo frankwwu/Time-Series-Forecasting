{
 "cells": [
  {
   "cell_type": "markdown",
   "metadata": {},
   "source": [
    "# Brent Oil Price Forecast with XGBoost"
   ]
  },
  {
   "cell_type": "code",
   "execution_count": 1,
   "metadata": {
    "execution": {
     "iopub.execute_input": "2022-03-21T14:33:49.861495Z",
     "iopub.status.busy": "2022-03-21T14:33:49.860603Z",
     "iopub.status.idle": "2022-03-21T14:33:58.125248Z",
     "shell.execute_reply": "2022-03-21T14:33:58.123734Z",
     "shell.execute_reply.started": "2022-03-21T14:33:49.861374Z"
    }
   },
   "outputs": [],
   "source": [
    "%matplotlib inline\n",
    "import numpy as np\n",
    "import pandas as pd\n",
    "from numpy import asarray\n",
    "from pandas import read_csv\n",
    "from pandas import DataFrame\n",
    "from pandas import concat\n",
    "from sklearn.metrics import mean_absolute_error\n",
    "from xgboost import XGBRegressor\n",
    "from xgboost import plot_importance\n",
    "import matplotlib.pyplot as plt"
   ]
  },
  {
   "cell_type": "markdown",
   "metadata": {},
   "source": [
    "## Reading dataset"
   ]
  },
  {
   "cell_type": "code",
   "execution_count": 2,
   "metadata": {
    "execution": {
     "iopub.execute_input": "2022-03-21T14:33:58.127565Z",
     "iopub.status.busy": "2022-03-21T14:33:58.127296Z",
     "iopub.status.idle": "2022-03-21T14:33:58.699322Z",
     "shell.execute_reply": "2022-03-21T14:33:58.698509Z",
     "shell.execute_reply.started": "2022-03-21T14:33:58.127528Z"
    }
   },
   "outputs": [
    {
     "data": {
      "text/plain": [
       "(8877, 2)"
      ]
     },
     "execution_count": 2,
     "metadata": {},
     "output_type": "execute_result"
    }
   ],
   "source": [
    "df = pd.read_excel(io='https://www.eia.gov/dnav/pet/hist_xls/RBRTEd.xls', sheet_name='Data 1', skiprows = 2)\n",
    "df = df.rename({'Europe Brent Spot Price FOB (Dollars per Barrel)': 'Price'}, axis='columns')\n",
    "df.shape"
   ]
  },
  {
   "cell_type": "markdown",
   "metadata": {},
   "source": [
    "## Drop negative prices if any"
   ]
  },
  {
   "cell_type": "code",
   "execution_count": 3,
   "metadata": {},
   "outputs": [
    {
     "data": {
      "text/plain": [
       "(8877, 2)"
      ]
     },
     "execution_count": 3,
     "metadata": {},
     "output_type": "execute_result"
    }
   ],
   "source": [
    "indexNames = df[df['Price'] < 0].index\n",
    "df.drop(indexNames , inplace=True)\n",
    "df.shape"
   ]
  },
  {
   "cell_type": "markdown",
   "metadata": {},
   "source": [
    "## Filling date gaps\n",
    "\n",
    "For market closed dates, use the previous date's price."
   ]
  },
  {
   "cell_type": "code",
   "execution_count": 4,
   "metadata": {
    "execution": {
     "iopub.execute_input": "2022-03-21T14:33:58.718726Z",
     "iopub.status.busy": "2022-03-21T14:33:58.718279Z",
     "iopub.status.idle": "2022-03-21T14:33:58.744842Z",
     "shell.execute_reply": "2022-03-21T14:33:58.744238Z",
     "shell.execute_reply.started": "2022-03-21T14:33:58.718673Z"
    }
   },
   "outputs": [
    {
     "data": {
      "text/plain": [
       "(12774, 2)"
      ]
     },
     "execution_count": 4,
     "metadata": {},
     "output_type": "execute_result"
    }
   ],
   "source": [
    "#make dates the index\n",
    "df.set_index(pd.DatetimeIndex(df.Date), inplace = True)\n",
    "#fill date gaps\n",
    "df = df.resample('D').pad()\n",
    "#fix the Date column\n",
    "df.Date = df.index.values\n",
    "df.reset_index(drop = True, inplace = True)\n",
    "n_days = df.shape[0]\n",
    "df.shape"
   ]
  },
  {
   "cell_type": "code",
   "execution_count": 5,
   "metadata": {
    "execution": {
     "iopub.execute_input": "2022-03-21T14:33:58.746421Z",
     "iopub.status.busy": "2022-03-21T14:33:58.746003Z",
     "iopub.status.idle": "2022-03-21T14:33:58.756926Z",
     "shell.execute_reply": "2022-03-21T14:33:58.756126Z",
     "shell.execute_reply.started": "2022-03-21T14:33:58.746387Z"
    }
   },
   "outputs": [
    {
     "data": {
      "text/html": [
       "<div>\n",
       "<style scoped>\n",
       "    .dataframe tbody tr th:only-of-type {\n",
       "        vertical-align: middle;\n",
       "    }\n",
       "\n",
       "    .dataframe tbody tr th {\n",
       "        vertical-align: top;\n",
       "    }\n",
       "\n",
       "    .dataframe thead th {\n",
       "        text-align: right;\n",
       "    }\n",
       "</style>\n",
       "<table border=\"1\" class=\"dataframe\">\n",
       "  <thead>\n",
       "    <tr style=\"text-align: right;\">\n",
       "      <th></th>\n",
       "      <th>Date</th>\n",
       "      <th>Price</th>\n",
       "    </tr>\n",
       "  </thead>\n",
       "  <tbody>\n",
       "    <tr>\n",
       "      <th>12769</th>\n",
       "      <td>2022-05-05</td>\n",
       "      <td>112.11</td>\n",
       "    </tr>\n",
       "    <tr>\n",
       "      <th>12770</th>\n",
       "      <td>2022-05-06</td>\n",
       "      <td>113.86</td>\n",
       "    </tr>\n",
       "    <tr>\n",
       "      <th>12771</th>\n",
       "      <td>2022-05-07</td>\n",
       "      <td>113.86</td>\n",
       "    </tr>\n",
       "    <tr>\n",
       "      <th>12772</th>\n",
       "      <td>2022-05-08</td>\n",
       "      <td>113.86</td>\n",
       "    </tr>\n",
       "    <tr>\n",
       "      <th>12773</th>\n",
       "      <td>2022-05-09</td>\n",
       "      <td>106.67</td>\n",
       "    </tr>\n",
       "  </tbody>\n",
       "</table>\n",
       "</div>"
      ],
      "text/plain": [
       "            Date   Price\n",
       "12769 2022-05-05  112.11\n",
       "12770 2022-05-06  113.86\n",
       "12771 2022-05-07  113.86\n",
       "12772 2022-05-08  113.86\n",
       "12773 2022-05-09  106.67"
      ]
     },
     "execution_count": 5,
     "metadata": {},
     "output_type": "execute_result"
    }
   ],
   "source": [
    "df.tail()"
   ]
  },
  {
   "cell_type": "markdown",
   "metadata": {},
   "source": [
    "## Save as csv"
   ]
  },
  {
   "cell_type": "code",
   "execution_count": 6,
   "metadata": {
    "execution": {
     "iopub.execute_input": "2022-03-21T14:33:58.758555Z",
     "iopub.status.busy": "2022-03-21T14:33:58.758174Z",
     "iopub.status.idle": "2022-03-21T14:33:58.771193Z",
     "shell.execute_reply": "2022-03-21T14:33:58.770527Z",
     "shell.execute_reply.started": "2022-03-21T14:33:58.758522Z"
    }
   },
   "outputs": [],
   "source": [
    "df.to_csv('gas.csv', index = False)"
   ]
  },
  {
   "cell_type": "markdown",
   "metadata": {},
   "source": [
    "## Visualizing the time series dataset"
   ]
  },
  {
   "cell_type": "code",
   "execution_count": 7,
   "metadata": {},
   "outputs": [],
   "source": [
    "def plot_series(time, series, format = \"-\", start = 0, end = None):\n",
    "    plt.plot(time[start:end], series[start:end], format)\n",
    "    plt.xlabel(\"Date\")\n",
    "    plt.ylabel(\"Price\")\n",
    "    plt.grid(True)"
   ]
  },
  {
   "cell_type": "code",
   "execution_count": 8,
   "metadata": {},
   "outputs": [
    {
     "data": {
      "text/plain": [
       "Text(0.5, 1.0, 'Brent Oil Price')"
      ]
     },
     "execution_count": 8,
     "metadata": {},
     "output_type": "execute_result"
    },
    {
     "data": {
      "image/png": "[encoded data removed]",
      "text/plain": [
       "<Figure size 864x360 with 1 Axes>"
      ]
     },
     "metadata": {
      "needs_background": "light"
     },
     "output_type": "display_data"
    }
   ],
   "source": [
    "plt.figure(figsize=(12, 5))\n",
    "plot_series(df['Date'], df['Price'])\n",
    "plt.title('Brent Oil Price')"
   ]
  },
  {
   "cell_type": "markdown",
   "metadata": {},
   "source": [
    "## Functions"
   ]
  },
  {
   "cell_type": "code",
   "execution_count": 9,
   "metadata": {},
   "outputs": [],
   "source": [
    "# transform a time series dataset into a supervised learning dataset\n",
    "def series_to_supervised(data, n_in = 1, n_out = 1, dropnan = True):\n",
    "    n_vars = 1 if type(data) is list else data.shape[1]\n",
    "\n",
    "    df = DataFrame(data)\n",
    "\n",
    "    cols = list()\n",
    "    # input sequence (t-n, ... t-1)\n",
    "    for i in range(n_in, 0, -1):\n",
    "        cols.append(df.shift(i))\n",
    "\n",
    "    # forecast sequence (t, t+1, ... t+n)\n",
    "    for i in range(0, n_out):\n",
    "        cols.append(df.shift(-i))\n",
    "\n",
    "    # put it all together\n",
    "    agg = concat(cols, axis = 1)\n",
    "    # drop rows with NaN values\n",
    "    if dropnan:\n",
    "        agg.dropna(inplace = True)\n",
    "\n",
    "    return agg.values\n",
    "\n",
    "# split a univariate dataset into train/test sets\n",
    "def train_test_split(data, n_test):\n",
    "    return data[:-n_test, :], data[-n_test:, :]\n",
    "\n",
    "# fit an xgboost model and make a one step prediction\n",
    "def xgboost_forecast(train, testX):\n",
    "    # transform list into array\n",
    "    train = asarray(train)\n",
    "    # split into input and output columns\n",
    "    trainX, trainy = train[:, :-1], train[:, -1]\n",
    "    # fit model\n",
    "    model = XGBRegressor(objective = 'reg:squarederror', n_estimators = 1000)\n",
    "\n",
    "    model.fit(trainX, trainy)\n",
    "    \n",
    "    # make a one-step prediction\n",
    "    yhat = model.predict(asarray([testX]))\n",
    "    return yhat[0], model\n",
    "\n",
    "# walk-forward validation for univariate data\n",
    "def walk_forward_validation(data, n_test):\n",
    "    predictions = list()\n",
    "    # split dataset\n",
    "    train, test = train_test_split(data, n_test)\n",
    "    # seed history with training dataset\n",
    "    history = [x for x in train]\n",
    "    # step over each time-step in the test set\n",
    "    for i in range(len(test)):\n",
    "        # split test row into input and output columns\n",
    "        testX, testy = test[i, :-1], test[i, -1]\n",
    "        # fit model on history and make a prediction\n",
    "        yhat, model = xgboost_forecast(history, testX)\n",
    "        # store forecast in list of predictions\n",
    "        predictions.append(yhat)\n",
    "        # add actual observation to history for the next loop\n",
    "        history.append(test[i])\n",
    "        # summarize progress\n",
    "        if n_test <= 30 or i % 10 == 0: \n",
    "            print('%d: Actuarial = %.1f, Predicted = %.1f' % (i, testy, yhat))\n",
    "    # estimate prediction error\n",
    "    error = mean_absolute_error(test[:, -1], predictions)\n",
    "\n",
    "    return error, test[:, -1], predictions, model"
   ]
  },
  {
   "cell_type": "markdown",
   "metadata": {},
   "source": [
    "## Training the model"
   ]
  },
  {
   "cell_type": "code",
   "execution_count": 10,
   "metadata": {},
   "outputs": [],
   "source": [
    "# load the dataset\n",
    "series = read_csv('gas.csv', header = 0, index_col = 0)\n",
    "values = series.values"
   ]
  },
  {
   "cell_type": "code",
   "execution_count": 11,
   "metadata": {},
   "outputs": [],
   "source": [
    "n_test = 365"
   ]
  },
  {
   "cell_type": "code",
   "execution_count": 12,
   "metadata": {},
   "outputs": [
    {
     "name": "stdout",
     "output_type": "stream",
     "text": [
      "0: Actuarial = 68.6, Predicted = 68.3\n",
      "10: Actuarial = 65.2, Predicted = 66.9\n",
      "20: Actuarial = 69.4, Predicted = 69.4\n",
      "30: Actuarial = 71.3, Predicted = 71.6\n",
      "40: Actuarial = 73.1, Predicted = 73.1\n",
      "50: Actuarial = 75.4, Predicted = 73.7\n",
      "60: Actuarial = 77.1, Predicted = 75.6\n",
      "70: Actuarial = 69.3, Predicted = 74.3\n",
      "80: Actuarial = 76.3, Predicted = 75.4\n",
      "90: Actuarial = 71.0, Predicted = 71.7\n",
      "100: Actuarial = 68.6, Predicted = 69.6\n",
      "110: Actuarial = 72.3, Predicted = 70.9\n",
      "120: Actuarial = 71.5, Predicted = 71.9\n",
      "130: Actuarial = 74.6, Predicted = 76.0\n",
      "140: Actuarial = 78.8, Predicted = 77.4\n",
      "150: Actuarial = 82.3, Predicted = 80.6\n",
      "160: Actuarial = 84.7, Predicted = 84.8\n",
      "170: Actuarial = 84.1, Predicted = 84.9\n",
      "180: Actuarial = 82.4, Predicted = 83.4\n",
      "190: Actuarial = 82.8, Predicted = 82.4\n",
      "200: Actuarial = 72.4, Predicted = 82.9\n",
      "210: Actuarial = 73.4, Predicted = 71.6\n",
      "220: Actuarial = 74.6, Predicted = 73.6\n",
      "230: Actuarial = 75.2, Predicted = 75.0\n",
      "240: Actuarial = 80.6, Predicted = 78.3\n",
      "250: Actuarial = 87.2, Predicted = 86.7\n",
      "260: Actuarial = 89.5, Predicted = 88.8\n",
      "270: Actuarial = 96.9, Predicted = 93.3\n",
      "280: Actuarial = 101.7, Predicted = 97.7\n",
      "290: Actuarial = 101.3, Predicted = 100.4\n",
      "300: Actuarial = 123.9, Predicted = 125.6\n",
      "310: Actuarial = 104.6, Predicted = 104.4\n",
      "320: Actuarial = 122.7, Predicted = 123.0\n",
      "330: Actuarial = 106.6, Predicted = 105.6\n",
      "340: Actuarial = 110.8, Predicted = 108.1\n",
      "350: Actuarial = 99.3, Predicted = 103.5\n",
      "360: Actuarial = 112.1, Predicted = 112.0\n",
      "MAE: 1.464\n"
     ]
    }
   ],
   "source": [
    "# transform the time series data into supervised learning\n",
    "data = series_to_supervised(values, n_in = 30, n_out = 1)\n",
    "# evaluate\n",
    "mae, y, yhat, model = walk_forward_validation(data, n_test)\n",
    "print('MAE: %.3f' % mae)"
   ]
  },
  {
   "cell_type": "code",
   "execution_count": 13,
   "metadata": {},
   "outputs": [
    {
     "data": {
      "image/png": "[encoded data removed]",
      "text/plain": [
       "<Figure size 864x360 with 1 Axes>"
      ]
     },
     "metadata": {
      "needs_background": "light"
     },
     "output_type": "display_data"
    }
   ],
   "source": [
    "plt.figure(figsize = (12, 5))\n",
    "plt.plot(y, label = 'Actuarial')\n",
    "plt.plot(yhat, label = 'Predicted')\n",
    "plt.grid(True)\n",
    "plt.legend()\n",
    "plt.show()"
   ]
  }
 ],
 "metadata": {
  "kernelspec": {
   "display_name": "Python 3 (ipykernel)",
   "language": "python",
   "name": "python3"
  },
  "language_info": {
   "codemirror_mode": {
    "name": "ipython",
    "version": 3
   },
   "file_extension": ".py",
   "mimetype": "text/x-python",
   "name": "python",
   "nbconvert_exporter": "python",
   "pygments_lexer": "ipython3",
   "version": "3.9.7"
  }
 },
 "nbformat": 4,
 "nbformat_minor": 4
}
